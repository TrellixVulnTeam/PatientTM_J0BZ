{
 "cells": [
  {
   "cell_type": "code",
   "execution_count": 1,
   "id": "6a0efa5a-128b-4fd7-822a-0738a192edbe",
   "metadata": {},
   "outputs": [
    {
     "name": "stdout",
     "output_type": "stream",
     "text": [
      "target train 0/1: 900/100\n",
      "batch index 0, 0/1: 75/25\n",
      "batch index 1, 0/1: 73/27\n",
      "batch index 2, 0/1: 72/28\n",
      "batch index 3, 0/1: 82/18\n",
      "batch index 4, 0/1: 84/16\n",
      "batch index 5, 0/1: 78/22\n",
      "batch index 6, 0/1: 79/21\n",
      "batch index 7, 0/1: 75/25\n",
      "batch index 8, 0/1: 73/27\n",
      "batch index 9, 0/1: 67/33\n"
     ]
    }
   ],
   "source": [
    "import torch\n",
    "import numpy as np\n",
    "from torch.utils.data import WeightedRandomSampler, TensorDataset, DataLoader\n",
    "\n",
    "numDataPoints = 1000\n",
    "data_dim = 5\n",
    "bs = 100\n",
    "\n",
    "positive_class_proportion = 0.1\n",
    "negative_class_proportion = 0.9\n",
    "\n",
    "# Create dummy data with class imbalance 9 to 1\n",
    "data = torch.FloatTensor(numDataPoints, data_dim)\n",
    "target = np.hstack((np.zeros(int(numDataPoints * negative_class_proportion), dtype=np.int32),\n",
    "                    np.ones(int(numDataPoints * positive_class_proportion), dtype=np.int32)))\n",
    "\n",
    "print(f'target train 0/1: {len(np.where(target == 0)[0])}/{len(np.where(target == 1)[0])}')\n",
    "\n",
    "class_sample_count = np.unique(target, return_counts=True)[1]\n",
    "# weight = 1. / class_sample_count\n",
    "# samples_weight = weight[target]\n",
    "\n",
    "new_majority_proportion = 3\n",
    "class_sample_count[0] /= new_majority_proportion\n",
    "weight = 1. / class_sample_count\n",
    "samples_weight = weight[target]\n",
    "\n",
    "samples_weight = torch.from_numpy(samples_weight)\n",
    "sampler = WeightedRandomSampler(samples_weight, len(samples_weight))\n",
    "\n",
    "target = torch.from_numpy(target).long()\n",
    "train_dataset = TensorDataset(data, target)\n",
    "\n",
    "train_loader = DataLoader(\n",
    "    train_dataset, batch_size=bs, num_workers=1, sampler=sampler)\n",
    "\n",
    "for i, (data, target) in enumerate(train_loader):\n",
    "    print(f\"batch index {i}, 0/1: {len(np.where(target.numpy() == 0)[0])}/{len(np.where(target.numpy() == 1)[0])}\")"
   ]
  },
  {
   "cell_type": "code",
   "execution_count": 2,
   "id": "f2989693-664a-44a4-909b-4af20ef05bd5",
   "metadata": {},
   "outputs": [],
   "source": [
    "weights = 1. / torch.tensor(class_sample_count, dtype=torch.float)\n",
    "samples_weights = weights[target]\n",
    "\n",
    "sampler = WeightedRandomSampler(\n",
    "    weights=samples_weights,\n",
    "    num_samples=len(samples_weights),\n",
    "    replacement=True)"
   ]
  },
  {
   "cell_type": "code",
   "execution_count": 24,
   "id": "2b2150d7-4abe-4f72-aa14-039c75e4fb3b",
   "metadata": {},
   "outputs": [
    {
     "name": "stdout",
     "output_type": "stream",
     "text": [
      "0 [1 2 3 4 5 6 7 8] [9] [0]\n",
      "1 [0 2 3 4 5 6 7 8] [9] [1]\n",
      "2 [0 1 3 4 5 6 7 8] [9] [2]\n",
      "3 [0 1 2 4 5 6 7 8] [9] [3]\n",
      "4 [0 1 2 3 5 6 7 8] [9] [4]\n",
      "5 [0 1 2 3 4 6 7 8] [9] [5]\n",
      "6 [0 1 2 3 4 5 7 8] [9] [6]\n",
      "7 [0 1 2 3 4 5 6 8] [9] [7]\n",
      "8 [0 1 2 3 4 5 6 7] [9] [8]\n",
      "9 [0 1 2 3 4 5 6 7] [8] [9]\n"
     ]
    }
   ],
   "source": [
    "from sklearn.model_selection import RepeatedKFold, KFold\n",
    "X = [0, 1, 2, 3, 4, 5, 6, 7, 8, 9]\n",
    "# y = np.array([0, 0, 1, 1])\n",
    "\n",
    "# rkf = RepeatedKFold(n_splits=10, n_repeats=10, random_state=2652124)\n",
    "# kf = KFold(n_splits=9)\n",
    "# for train_index, test_index in rkf.split(X):\n",
    "#     # print(train_index, test_index)\n",
    "#     for subtrain_index, val_index in kf.split(train_index):\n",
    "#         print(subtrain_index, val_index)\n",
    "\n",
    "# kf10 = KFold(n_splits=10)\n",
    "# kf9  = KFold(n_splits=9)\n",
    "# for train_idx, test_idx in kf10.split(X):\n",
    "#     print(train_idx[:-1], train_idx[-1], test_idx)\n",
    "#     # for subtrain_idx, val_idx in kf9.split(train_idx):\n",
    "#     #     print(subtrain_idx, val_idx, test_idx)\n",
    "    \n",
    "kFold = KFold(n_splits=10)\n",
    "for i, (train_index, test_index) in enumerate(kFold.split(X)):\n",
    "    val_index = [train_index[-1]]\n",
    "    train_index = train_index[:-1]\n",
    "    print(i, train_index, val_index, test_index)\n",
    "    "
   ]
  },
  {
   "cell_type": "code",
   "execution_count": null,
   "id": "27d9bb46-8b89-4076-877f-360064cf239e",
   "metadata": {},
   "outputs": [],
   "source": []
  }
 ],
 "metadata": {
  "kernelspec": {
   "display_name": "Python 3 (ipykernel)",
   "language": "python",
   "name": "python3"
  },
  "language_info": {
   "codemirror_mode": {
    "name": "ipython",
    "version": 3
   },
   "file_extension": ".py",
   "mimetype": "text/x-python",
   "name": "python",
   "nbconvert_exporter": "python",
   "pygments_lexer": "ipython3",
   "version": "3.7.10"
  }
 },
 "nbformat": 4,
 "nbformat_minor": 5
}
