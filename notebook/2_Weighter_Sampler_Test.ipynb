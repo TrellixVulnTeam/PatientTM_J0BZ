{
 "cells": [
  {
   "cell_type": "code",
   "execution_count": 2,
   "id": "6a0efa5a-128b-4fd7-822a-0738a192edbe",
   "metadata": {},
   "outputs": [
    {
     "name": "stdout",
     "output_type": "stream",
     "text": [
      "target train 0/1: 900/100\n",
      "batch index 0, 0/1: 68/32\n",
      "batch index 1, 0/1: 75/25\n",
      "batch index 2, 0/1: 75/25\n",
      "batch index 3, 0/1: 70/30\n",
      "batch index 4, 0/1: 71/29\n",
      "batch index 5, 0/1: 81/19\n",
      "batch index 6, 0/1: 84/16\n",
      "batch index 7, 0/1: 72/28\n",
      "batch index 8, 0/1: 86/14\n",
      "batch index 9, 0/1: 66/34\n"
     ]
    }
   ],
   "source": [
    "import torch\n",
    "import numpy as np\n",
    "from torch.utils.data import WeightedRandomSampler, TensorDataset, DataLoader\n",
    "\n",
    "numDataPoints = 1000\n",
    "data_dim = 5\n",
    "bs = 100\n",
    "\n",
    "positive_class_proportion = 0.1\n",
    "negative_class_proportion = 0.9\n",
    "\n",
    "# Create dummy data with class imbalance 9 to 1\n",
    "data = torch.FloatTensor(numDataPoints, data_dim)\n",
    "target = np.hstack((np.zeros(int(numDataPoints * negative_class_proportion), dtype=np.int32),\n",
    "                    np.ones(int(numDataPoints * positive_class_proportion), dtype=np.int32)))\n",
    "\n",
    "print(f'target train 0/1: {len(np.where(target == 0)[0])}/{len(np.where(target == 1)[0])}')\n",
    "\n",
    "class_sample_count = np.unique(target, return_counts=True)[1]\n",
    "# weight = 1. / class_sample_count\n",
    "# samples_weight = weight[target]\n",
    "\n",
    "new_majority_proportion = 3\n",
    "class_sample_count[0] /= new_majority_proportion\n",
    "weight = 1. / class_sample_count\n",
    "samples_weight = weight[target]\n",
    "\n",
    "samples_weight = torch.from_numpy(samples_weight)\n",
    "sampler = WeightedRandomSampler(samples_weight, len(samples_weight))\n",
    "\n",
    "target = torch.from_numpy(target).long()\n",
    "train_dataset = TensorDataset(data, target)\n",
    "\n",
    "train_loader = DataLoader(\n",
    "    train_dataset, batch_size=bs, num_workers=1, sampler=sampler)\n",
    "\n",
    "for i, (data, target) in enumerate(train_loader):\n",
    "    print(f\"batch index {i}, 0/1: {len(np.where(target.numpy() == 0)[0])}/{len(np.where(target.numpy() == 1)[0])}\")"
   ]
  },
  {
   "cell_type": "code",
   "execution_count": 6,
   "id": "f2989693-664a-44a4-909b-4af20ef05bd5",
   "metadata": {},
   "outputs": [],
   "source": [
    "weights = 1. / torch.tensor(class_sample_count, dtype=torch.float)\n",
    "samples_weights = weights[target]\n",
    "\n",
    "sampler = WeightedRandomSampler(\n",
    "    weights=samples_weights,\n",
    "    num_samples=len(samples_weights),\n",
    "    replacement=True)"
   ]
  },
  {
   "cell_type": "code",
   "execution_count": null,
   "id": "2b2150d7-4abe-4f72-aa14-039c75e4fb3b",
   "metadata": {},
   "outputs": [],
   "source": []
  }
 ],
 "metadata": {
  "kernelspec": {
   "display_name": "Python 3 (ipykernel)",
   "language": "python",
   "name": "python3"
  },
  "language_info": {
   "codemirror_mode": {
    "name": "ipython",
    "version": 3
   },
   "file_extension": ".py",
   "mimetype": "text/x-python",
   "name": "python",
   "nbconvert_exporter": "python",
   "pygments_lexer": "ipython3",
   "version": "3.7.10"
  }
 },
 "nbformat": 4,
 "nbformat_minor": 5
}
