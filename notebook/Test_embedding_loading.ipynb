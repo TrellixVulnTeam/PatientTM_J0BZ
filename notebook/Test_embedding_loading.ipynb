{
 "cells": [
  {
   "cell_type": "code",
   "execution_count": 3,
   "id": "2c73458f-af0e-4930-a556-8987fedd6b38",
   "metadata": {},
   "outputs": [
    {
     "name": "stdout",
     "output_type": "stream",
     "text": [
      "(1335, 768) float32\n"
     ]
    }
   ],
   "source": [
    "import numpy as np\n",
    "import torch\n",
    "from torch import nn\n",
    "\n",
    "class EmbeddingLayer(nn.Module):\n",
    "    def __init__(self, vocab_size, hidden_size, dropout_prob, pretrained_array=None):\n",
    "        super(EmbeddingLayer, self).__init__()\n",
    "        if pretrained_array is not None:\n",
    "            weights = torch.from_numpy(pretrained_array)\n",
    "            self.word_embeddings = nn.Embedding.from_pretrained(weights)\n",
    "        else:\n",
    "            self.word_embeddings = nn.Embedding(vocab_size, hidden_size)\n",
    "        self.dropout = nn.Dropout(dropout_prob)\n",
    "\n",
    "    def forward(self, input_data):\n",
    "        layer_output = self.word_embeddings(input_data)\n",
    "        layer_output = self.dropout(layer_output)\n",
    "        return layer_output\n",
    "\n",
    "    \n",
    "numpy_array = np.load(\"../data/extended/preprocessing/embeddings/small_icd9_embeddings.npy\")\n",
    "print(numpy_array.shape, numpy_array.dtype)\n",
    "embedding_layer = EmbeddingLayer(100,100,0.1,numpy_array)\n"
   ]
  },
  {
   "cell_type": "code",
   "execution_count": 4,
   "id": "c5d26543-fd40-4c14-82f6-d277f44093ab",
   "metadata": {},
   "outputs": [
    {
     "data": {
      "text/plain": [
       "tensor([[1., 1., 1., 2., 2., 2.],\n",
       "        [3., 3., 3., 4., 4., 4.]])"
      ]
     },
     "execution_count": 4,
     "metadata": {},
     "output_type": "execute_result"
    }
   ],
   "source": [
    "array = torch.FloatTensor([[[1,1,1],[2,2,2]], [[3,3,3],[4,4,4]]])\n",
    "array.view(array.size(0),-1)"
   ]
  },
  {
   "cell_type": "code",
   "execution_count": 18,
   "id": "a74937f9-c7f0-4c89-b023-f899020fd9ad",
   "metadata": {},
   "outputs": [
    {
     "name": "stdout",
     "output_type": "stream",
     "text": [
      "[tensor([[1., 1., 1.],\n",
      "        [2., 2., 2.]]), tensor([[3., 3., 3.],\n",
      "        [4., 4., 4.]]), tensor([[5., 5., 5.],\n",
      "        [6., 6., 6.]])]\n"
     ]
    },
    {
     "data": {
      "text/plain": [
       "tensor([[1., 1., 1., 3., 3., 3., 5., 5., 5.],\n",
       "        [2., 2., 2., 4., 4., 4., 6., 6., 6.]])"
      ]
     },
     "execution_count": 18,
     "metadata": {},
     "output_type": "execute_result"
    }
   ],
   "source": [
    "outputs=[]\n",
    "layer1_output=torch.FloatTensor([[1,1,1], [2,2,2]])\n",
    "layer2_output=torch.FloatTensor([[3,3,3], [4,4,4]])\n",
    "layer3_output=torch.FloatTensor([[5,5,5], [6,6,6]])\n",
    "outputs=[layer1_output, layer2_output, layer3_output]\n",
    "print(outputs)\n",
    "\n",
    "output=torch.cat(([i for i in outputs]),dim=1)\n",
    "output"
   ]
  },
  {
   "cell_type": "code",
   "execution_count": null,
   "id": "a4428d17-fb9a-49d7-af34-e512d00982ad",
   "metadata": {},
   "outputs": [],
   "source": []
  },
  {
   "cell_type": "code",
   "execution_count": null,
   "id": "b40516c0-71d0-4387-a85a-a8f7c620fc93",
   "metadata": {},
   "outputs": [],
   "source": []
  }
 ],
 "metadata": {
  "kernelspec": {
   "display_name": "Python 3 (ipykernel)",
   "language": "python",
   "name": "python3"
  },
  "language_info": {
   "codemirror_mode": {
    "name": "ipython",
    "version": 3
   },
   "file_extension": ".py",
   "mimetype": "text/x-python",
   "name": "python",
   "nbconvert_exporter": "python",
   "pygments_lexer": "ipython3",
   "version": "3.7.10"
  }
 },
 "nbformat": 4,
 "nbformat_minor": 5
}
