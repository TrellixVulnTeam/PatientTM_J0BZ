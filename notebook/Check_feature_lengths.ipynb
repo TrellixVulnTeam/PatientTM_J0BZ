{
 "cells": [
  {
   "cell_type": "code",
   "execution_count": 65,
   "id": "4c13932c-f323-4657-a917-6e80c2d69397",
   "metadata": {},
   "outputs": [],
   "source": [
    "import pandas as pd\n",
    "\n",
    "def processString(string, charsToRemove):\n",
    "    for char in charsToRemove: string = string.replace(char, \"\")\n",
    "    return string\n",
    "\n",
    "def check_feature_lengths(filepath):\n",
    "    file=pd.read_csv(filepath)\n",
    "    lines=zip(file.SUBJECT_ID,file.HADM_ID,file.ADMITTIME,file.DAYS_NEXT_ADMIT,file.DAYS_PREV_ADMIT,file.DURATION,file.DIAG_ICD9,\n",
    "              file.DIAG_CCS,file.PROC_ICD9,file.PROC_CCS,file.NDC,file.SMALL_DIAG_ICD9,file.SMALL_PROC_ICD9,file.CUI,file.Label,file.TEXT)\n",
    "\n",
    "    ccs_diag_maxlen=0\n",
    "    ccs_proc_maxlen=0\n",
    "    cui_maxlen=0\n",
    "    small_icd_diag_maxlen=0\n",
    "    small_icd_proc_maxlen=0\n",
    "\n",
    "    for line in lines:\n",
    "        small_icd_diag = line[11]  \n",
    "        if not pd.isna(small_icd_diag):\n",
    "            small_icd_diag = [x for x in processString(small_icd_diag, charsToRemove = \"[]\\' \").split(',')]\n",
    "            if len(small_icd_diag) > small_icd_diag_maxlen: small_icd_diag_maxlen = len(small_icd_diag)\n",
    "            \n",
    "        small_icd_proc = line[12]\n",
    "        if not pd.isna(small_icd_proc):\n",
    "            small_icd_proc = [x for x in processString(small_icd_proc, charsToRemove = \"[]\\' \").split(',')]\n",
    "            if len(small_icd_proc) > small_icd_proc_maxlen: small_icd_proc_maxlen = len(small_icd_proc)\n",
    "        \n",
    "        ccs_diag = line[7]\n",
    "        if not pd.isna(ccs_diag):\n",
    "            ccs_diag = [x for x in processString(ccs_diag, charsToRemove = \"[]\\' \").split(',')]\n",
    "            if len(ccs_diag) > ccs_diag_maxlen: ccs_diag_maxlen = len(ccs_diag)\n",
    "        \n",
    "        ccs_proc = line[9]\n",
    "        if not pd.isna(ccs_proc):\n",
    "            ccs_proc = [x for x in processString(ccs_proc, charsToRemove = \"[]\\' \").split(',')]\n",
    "            if len(ccs_proc) > ccs_proc_maxlen: ccs_proc_maxlen = len(ccs_proc) \n",
    "        \n",
    "        cui = line[13]\n",
    "        if not pd.isna(cui):\n",
    "            cui = [x for x in processString(cui, charsToRemove = \"[]\\' \").split(',')]\n",
    "            if len(cui) > cui_maxlen: cui_maxlen = len(cui)\n",
    "\n",
    "    print(\"Max length of Small ICD9 DIAG: {}\".format(small_icd_diag_maxlen))\n",
    "    print(\"Max length of Small ICD9 PROC: {}\".format(small_icd_proc_maxlen))\n",
    "    print(\"Max length of CCS DIAG: {}\".format(ccs_diag_maxlen))\n",
    "    print(\"Max length of CCS PROC: {}\".format(ccs_proc_maxlen))\n",
    "    print(\"Max length of CUI: {}\".format(cui_maxlen))"
   ]
  },
  {
   "cell_type": "code",
   "execution_count": 66,
   "id": "96c40c66-2ab9-4b9d-bb85-7274e72d4912",
   "metadata": {},
   "outputs": [
    {
     "name": "stdout",
     "output_type": "stream",
     "text": [
      "Max length of Small ICD9 DIAG: 36\n",
      "Max length of Small ICD9 PROC: 17\n",
      "Max length of CCS DIAG: 39\n",
      "Max length of CCS PROC: 38\n",
      "Max length of CUI: 34\n"
     ]
    }
   ],
   "source": [
    "check_feature_lengths(\"../data/extended/discharge/train.csv\")"
   ]
  },
  {
   "cell_type": "code",
   "execution_count": 67,
   "id": "d5723e5c-487f-4bf7-b80e-d432042c8c45",
   "metadata": {},
   "outputs": [
    {
     "name": "stdout",
     "output_type": "stream",
     "text": [
      "Max length of Small ICD9 DIAG: 35\n",
      "Max length of Small ICD9 PROC: 13\n",
      "Max length of CCS DIAG: 39\n",
      "Max length of CCS PROC: 24\n",
      "Max length of CUI: 27\n"
     ]
    }
   ],
   "source": [
    "check_feature_lengths(\"../data/extended/discharge/val.csv\")"
   ]
  },
  {
   "cell_type": "code",
   "execution_count": 68,
   "id": "708aa690-b9db-4def-9040-4a09062b181c",
   "metadata": {},
   "outputs": [
    {
     "name": "stdout",
     "output_type": "stream",
     "text": [
      "Max length of Small ICD9 DIAG: 34\n",
      "Max length of Small ICD9 PROC: 15\n",
      "Max length of CCS DIAG: 39\n",
      "Max length of CCS PROC: 28\n",
      "Max length of CUI: 47\n"
     ]
    }
   ],
   "source": [
    "check_feature_lengths(\"../data/extended/discharge/test.csv\")"
   ]
  },
  {
   "cell_type": "code",
   "execution_count": 69,
   "id": "46f83e9c-fa9c-4d11-b55e-91c18d3d5106",
   "metadata": {},
   "outputs": [
    {
     "name": "stdout",
     "output_type": "stream",
     "text": [
      "Max length of Small ICD9 DIAG: 36\n",
      "Max length of Small ICD9 PROC: 17\n",
      "Max length of CCS DIAG: 39\n",
      "Max length of CCS PROC: 38\n",
      "Max length of CUI: 34\n"
     ]
    }
   ],
   "source": [
    "check_feature_lengths(\"../data/extended/3days/train.csv\")"
   ]
  },
  {
   "cell_type": "code",
   "execution_count": 70,
   "id": "4f878b9b-4692-4ba7-bf7b-69ebd58eb1a3",
   "metadata": {},
   "outputs": [
    {
     "name": "stdout",
     "output_type": "stream",
     "text": [
      "Max length of Small ICD9 DIAG: 35\n",
      "Max length of Small ICD9 PROC: 13\n",
      "Max length of CCS DIAG: 39\n",
      "Max length of CCS PROC: 24\n",
      "Max length of CUI: 27\n"
     ]
    }
   ],
   "source": [
    "check_feature_lengths(\"../data/extended/3days/val.csv\")"
   ]
  },
  {
   "cell_type": "code",
   "execution_count": 71,
   "id": "fbee7214-4ded-4425-a2c7-0213c26ced94",
   "metadata": {},
   "outputs": [
    {
     "name": "stdout",
     "output_type": "stream",
     "text": [
      "Max length of Small ICD9 DIAG: 34\n",
      "Max length of Small ICD9 PROC: 15\n",
      "Max length of CCS DIAG: 39\n",
      "Max length of CCS PROC: 28\n",
      "Max length of CUI: 47\n"
     ]
    }
   ],
   "source": [
    "check_feature_lengths(\"../data/extended/3days/test.csv\")"
   ]
  },
  {
   "cell_type": "code",
   "execution_count": 72,
   "id": "8dcef190-6729-4ceb-89f1-be26b3e597bb",
   "metadata": {},
   "outputs": [
    {
     "name": "stdout",
     "output_type": "stream",
     "text": [
      "Max length of Small ICD9 DIAG: 34\n",
      "Max length of Small ICD9 PROC: 15\n",
      "Max length of CCS DIAG: 39\n",
      "Max length of CCS PROC: 28\n",
      "Max length of CUI: 47\n"
     ]
    }
   ],
   "source": [
    "check_feature_lengths(\"../data/extended/2days/test.csv\")"
   ]
  },
  {
   "cell_type": "code",
   "execution_count": null,
   "id": "e9c1b218-e5de-4fa1-a153-8b357a62e3fa",
   "metadata": {},
   "outputs": [],
   "source": []
  }
 ],
 "metadata": {
  "kernelspec": {
   "display_name": "Python 3 (ipykernel)",
   "language": "python",
   "name": "python3"
  },
  "language_info": {
   "codemirror_mode": {
    "name": "ipython",
    "version": 3
   },
   "file_extension": ".py",
   "mimetype": "text/x-python",
   "name": "python",
   "nbconvert_exporter": "python",
   "pygments_lexer": "ipython3",
   "version": "3.7.10"
  }
 },
 "nbformat": 4,
 "nbformat_minor": 5
}
